{
 "cells": [
  {
   "cell_type": "markdown",
   "id": "2ce50be8-2958-44a3-99b3-3495e2576e8e",
   "metadata": {},
   "source": [
    "Примеры последовательностей для выравнивания с семинара:"
   ]
  },
  {
   "cell_type": "code",
   "execution_count": 1,
   "id": "8ce12a68-8d09-4e64-818d-1726dac055fc",
   "metadata": {},
   "outputs": [],
   "source": [
    "seq1 = \"ATCGTAGC\"\n",
    "seq2 = \"ATCGTACG\"\n",
    "seq3 = \"GCTAGCTA\"\n",
    "seq4 = \"TACGATCG\"\n",
    "rna1 = \"AUGCUAGC\"\n",
    "rna2 = \"AUGCUGCA\"\n",
    "rna3 = \"GCUAGCUA\"\n",
    "rna4 = \"UACGAUCG\"\n",
    "protein1 = \"ACDEFGHIKLMNPQRSTVWY\"\n",
    "protein2 = \"ACDFGHIKLMNPRSTVWY\"\n",
    "protein3 = \"ACDEFGHLMNPQRSTVWX\"\n",
    "protein4 = \"ABCDEFGHIJKLMN\""
   ]
  },
  {
   "cell_type": "markdown",
   "id": "d14a1a63-ed2f-4bf8-acc5-a6eedceff0fd",
   "metadata": {},
   "source": [
    "Расстояние Хемминга - простое вычисление количества отличающихся нуклеотидов (аминокислот). \n",
    "Реализация для простого случая с одинаковой длиной сиквенсов:"
   ]
  },
  {
   "cell_type": "code",
   "execution_count": 2,
   "id": "7faa4202-9147-45d6-8020-34a70b1488cf",
   "metadata": {},
   "outputs": [],
   "source": [
    "def Hemming_distance(seq1, seq2):\n",
    "    l = len(seq1)\n",
    "    f = 0\n",
    "    for i in range(l):\n",
    "        if seq1[i] != seq2[i]:\n",
    "            f += 1\n",
    "    return f"
   ]
  },
  {
   "cell_type": "code",
   "execution_count": 3,
   "id": "f97daf40-53ca-4224-9b8e-d1f68e1cd4f1",
   "metadata": {},
   "outputs": [
    {
     "name": "stdout",
     "output_type": "stream",
     "text": [
      "2\n"
     ]
    }
   ],
   "source": [
    "print(Hemming_distance(seq1, seq2))"
   ]
  },
  {
   "cell_type": "markdown",
   "id": "58b41676-d5cb-42b8-ae20-c7122419663a",
   "metadata": {},
   "source": [
    "Расстояние Левенштейна - минимальное количество односимвольных операций (вставки, пропуски, замены), необходимых для превращения одной последовательности символов в другую."
   ]
  },
  {
   "cell_type": "code",
   "execution_count": 4,
   "id": "6e0b18cb-3cef-4552-a0ce-dba7af2ee7ee",
   "metadata": {},
   "outputs": [],
   "source": [
    "def Levenshtain_distance(seq1, seq2):\n",
    "    n, m = len(seq1), len(seq2)\n",
    "    if n > m:\n",
    "        seq1, seq2 = seq2, seq1\n",
    "        n, m = m, n\n",
    "    current_row = range(n + 1)\n",
    "    for i in range(1, m + 1):\n",
    "        previous_row, current_row = current_row, [i] + [0] * n\n",
    "        for j in range(1, n + 1):\n",
    "            add, delete, change = previous_row[j] + 1, current_row[j - 1] + 1, previous_row[j - 1]\n",
    "            if seq1[j - 1] != seq2[i - 1]:\n",
    "                change += 1\n",
    "            current_row[j] = min(add, delete, change)\n",
    "\n",
    "    return current_row[n]"
   ]
  },
  {
   "cell_type": "code",
   "execution_count": 5,
   "id": "a40fbc2d-a2db-4bc3-bb4a-9b08a3ed4e5b",
   "metadata": {},
   "outputs": [
    {
     "name": "stdout",
     "output_type": "stream",
     "text": [
      "2\n"
     ]
    }
   ],
   "source": [
    "print(Levenshtain_distance(seq1, seq2))"
   ]
  },
  {
   "cell_type": "markdown",
   "id": "47fa95a1-266d-4c56-a197-e97c03736372",
   "metadata": {},
   "source": [
    "Алгоритм Нидлмана-Вунша - глобальное выравнивание последовательностей с учетом штрафов за несовпадения и введение разрывов (пропусков)."
   ]
  },
  {
   "cell_type": "code",
   "execution_count": 6,
   "id": "eea37d2b-ae41-4e41-a373-56939d317868",
   "metadata": {},
   "outputs": [],
   "source": [
    "def Needleman_Wunsch(seq1, seq2, match=1, mismatch=-1, indel=-2):\n",
    "    n, m = len(seq1), len(seq2)\n",
    "    matrix = [[0] * (m+1) for _ in range(n+1)]\n",
    "\n",
    "    for i in range(1, n+1):\n",
    "        matrix[i][0] = matrix[i-1][0] + indel\n",
    "    for j in range(1, m+1):\n",
    "        matrix[0][j] = matrix[0][j-1] + indel\n",
    "    \n",
    "    for i in range(1, n+1):\n",
    "        for j in range(1, m+1):\n",
    "            diag = matrix[i-1][j-1] + (match if seq1[i-1] == seq2[j-1] else mismatch)\n",
    "            up = matrix[i-1][j] + indel\n",
    "            left = matrix[i][j-1] + indel\n",
    "            matrix[i][j] = max(diag, up, left)\n",
    "    \n",
    "    align1, align2 = [], []\n",
    "    i, j = n, m\n",
    "    while i > 0 or j > 0:\n",
    "        if i > 0 and j > 0 and matrix[i][j] == matrix[i-1][j-1] + (match if seq1[i-1] == seq2[j-1] else mismatch):\n",
    "            align1.append(seq1[i-1])\n",
    "            align2.append(seq2[j-1])\n",
    "            i -= 1\n",
    "            j -= 1\n",
    "        elif i > 0 and matrix[i][j] == matrix[i-1][j] + indel:\n",
    "            align1.append(seq1[i-1])\n",
    "            align2.append('-')\n",
    "            i -= 1\n",
    "        else:\n",
    "            align1.append('-')\n",
    "            align2.append(seq2[j-1])\n",
    "            j -= 1\n",
    "    return ''.join(reversed(align1)), ''.join(reversed(align2)), matrix[n][m], matrix"
   ]
  },
  {
   "cell_type": "markdown",
   "id": "cfd88fe2-e8fc-4cc1-bf8f-c403937b89c6",
   "metadata": {},
   "source": [
    "Использование алгоритма для построения выравнивания на выданных последовательностях и скорах"
   ]
  },
  {
   "cell_type": "code",
   "execution_count": 14,
   "id": "cef2c145-2beb-4f86-9706-72b30dee2d40",
   "metadata": {},
   "outputs": [
    {
     "name": "stdout",
     "output_type": "stream",
     "text": [
      "Выравнивание последовательности 1: CGTCTT\n",
      "Выравнивание последовательности 2: CATTCT\n",
      "Итоговый скор: 0\n"
     ]
    },
    {
     "data": {
      "text/plain": [
       "[[0, -2, -4, -6, -8, -10, -12],\n",
       " [-2, 1, -1, -3, -5, -7, -9],\n",
       " [-4, -1, 0, -2, -4, -6, -8],\n",
       " [-6, -3, -2, 1, -1, -3, -5],\n",
       " [-8, -5, -4, -1, 0, 0, -2],\n",
       " [-10, -7, -6, -3, 0, -1, 1],\n",
       " [-12, -9, -8, -5, -2, -1, 0]]"
      ]
     },
     "execution_count": 14,
     "metadata": {},
     "output_type": "execute_result"
    }
   ],
   "source": [
    "alig1, alig2, score, matrix = Needleman_Wunsch(\"CGTCTT\", \"CATTCT\", match=1, mismatch=-1, indel=-2)\n",
    "\n",
    "print(f\"Выравнивание последовательности 1: {alig1}\\nВыравнивание последовательности 2: {alig2}\\nИтоговый скор: {score}\")\n",
    "\n",
    "matrix"
   ]
  },
  {
   "cell_type": "markdown",
   "id": "053212ab-3161-4ebb-8e7d-e7b7dcb0e841",
   "metadata": {},
   "source": [
    "Алгоритм Смифа-Ватермана - локальное выравнивание, схоже с предыдущим алгоритмом."
   ]
  },
  {
   "cell_type": "code",
   "execution_count": 25,
   "id": "d780cf56-2720-4a9a-b9e1-88435ea70250",
   "metadata": {},
   "outputs": [],
   "source": [
    "def Smith_Waterman(seq1, seq2, match_score=1, gap_score=1, mismatch_score=2):\n",
    "\n",
    "    n, m = len(seq1), len(seq2)\n",
    "    matrix = [[0] * (m + 1) for _ in range(n + 1)]  \n",
    "    max_score = 0  \n",
    "    max_pos = (0, 0)  \n",
    "\n",
    "    for i in range(1, n + 1):\n",
    "        for j in range(1, m + 1):\n",
    "\n",
    "            match = matrix[i - 1][j - 1] + (match_score if seq1[i - 1] == seq2[j - 1] else -mismatch_score)\n",
    "            delete = matrix[i - 1][j] - gap_score\n",
    "            insert = matrix[i][j - 1] - gap_score\n",
    "            matrix[i][j] = max(0, match, delete, insert)  \n",
    "\n",
    "            if matrix[i][j] > max_score:\n",
    "                max_score = matrix[i][j]\n",
    "                max_pos = (i, j)\n",
    "\n",
    "    align1, align2 = '', ''\n",
    "    i, j = max_pos\n",
    "    while matrix[i][j] > 0:\n",
    "        if matrix[i][j] == matrix[i - 1][j - 1] + (match_score if seq1[i - 1] == seq2[j - 1] else -mismatch_score):\n",
    "            align1 = seq1[i - 1] + align1\n",
    "            align2 = seq2[j - 1] + align2\n",
    "            i -= 1\n",
    "            j -= 1\n",
    "        elif matrix[i][j] == matrix[i - 1][j] - gap_score:\n",
    "            align1 = seq1[i - 1] + align1\n",
    "            align2 = '-' + align2\n",
    "            i -= 1\n",
    "        else:\n",
    "            align1 = '-' + align1\n",
    "            align2 = seq2[j - 1] + align2\n",
    "            j -= 1\n",
    "\n",
    "    return align1, align2, max_score"
   ]
  },
  {
   "cell_type": "code",
   "execution_count": 26,
   "id": "fa9924ec-b6a6-4cf3-b597-a2eb84152c8e",
   "metadata": {},
   "outputs": [
    {
     "name": "stdout",
     "output_type": "stream",
     "text": [
      "Выравнивание последовательности 1: TCT\n",
      "Выравнивание последовательности 2: TCT\n",
      "Оценка: 3\n"
     ]
    }
   ],
   "source": [
    "seq1 = \"GATTACA\"\n",
    "seq2 = \"GCATGCU\"\n",
    "alignment1, alignment2, score = Smith_Waterman(\"CGTCTT\", \"CATTCT\")\n",
    "print(\"Выравнивание последовательности 1:\", alignment1)\n",
    "print(\"Выравнивание последовательности 2:\", alignment2)\n",
    "print(\"Оценка:\", score)"
   ]
  },
  {
   "cell_type": "markdown",
   "id": "48492649-9fe8-48c6-93d5-971beb9f1847",
   "metadata": {},
   "source": [
    "Использование библиотек из Python:"
   ]
  },
  {
   "cell_type": "code",
   "execution_count": 27,
   "id": "0a6a30cc-ee36-40e7-8533-d27934ea53a9",
   "metadata": {},
   "outputs": [],
   "source": [
    "#pip install Bio"
   ]
  },
  {
   "cell_type": "code",
   "execution_count": 28,
   "id": "d4961d2e-3374-45d1-9bf5-1db5ef57fef2",
   "metadata": {},
   "outputs": [
    {
     "name": "stdout",
     "output_type": "stream",
     "text": [
      "target            0 CGTCTT 6\n",
      "                  0 |.|..| 6\n",
      "query             0 CATTCT 6\n",
      "\n"
     ]
    }
   ],
   "source": [
    "from Bio import Align\n",
    "from Bio.Align import PairwiseAligner\n",
    "\n",
    "aligner = PairwiseAligner()\n",
    "aligner.mode = 'global'\n",
    "aligner.match_score = 1\n",
    "aligner.mismatch_score = -1\n",
    "aligner.open_gap_score = -2\n",
    "aligner.extend_gap_score = -2\n",
    "\n",
    "seq1 = \"CGTCTT\"\n",
    "seq2 = \"CATTCT\"\n",
    "\n",
    "alignments = aligner.align(seq1, seq2)\n",
    "for alignment in alignments:\n",
    "    print(alignment)"
   ]
  },
  {
   "cell_type": "code",
   "execution_count": null,
   "id": "c5159704-44e5-41bc-9a86-aef39a5e7914",
   "metadata": {},
   "outputs": [],
   "source": []
  }
 ],
 "metadata": {
  "kernelspec": {
   "display_name": "Python 3 (ipykernel)",
   "language": "python",
   "name": "python3"
  },
  "language_info": {
   "codemirror_mode": {
    "name": "ipython",
    "version": 3
   },
   "file_extension": ".py",
   "mimetype": "text/x-python",
   "name": "python",
   "nbconvert_exporter": "python",
   "pygments_lexer": "ipython3",
   "version": "3.8.12"
  }
 },
 "nbformat": 4,
 "nbformat_minor": 5
}
