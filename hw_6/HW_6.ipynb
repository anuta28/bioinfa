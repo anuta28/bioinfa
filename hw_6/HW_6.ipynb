{
 "cells": [
  {
   "cell_type": "markdown",
   "id": "49d238f7-7e0a-4c75-bc1b-9038b3f39b19",
   "metadata": {},
   "source": [
    "### Домашнее задание 6."
   ]
  },
  {
   "cell_type": "markdown",
   "id": "9d29fc12-839a-4dab-aeb7-6fbad1039255",
   "metadata": {},
   "source": [
    "Для анализа выбраны протеомы двух необычных и довольно далеких друг от друга организмов:\n",
    "\n",
    "- Тихоходка ($Hypsibius$ $exemplaris$): идентификатор GCA_002082055.1\n",
    "\n",
    "- Термофильная бактерия ($Thermus$ $thermophilus$): идентификатор GCF_000218545.1 \n",
    "\n",
    "Эти организмы имеют высокую приспособленность к экстремальным условиям, например, высокой температуре, ультрафиолету и даже условиям космоса, поэтому вызвали интерес. Однако, организмы эволюционно далеки, поэтому, в качестве белков для анализа, выбрана ДНК-зависимая РНК-полимераза III, основной мотив которой довольно консервативен."
   ]
  },
  {
   "cell_type": "markdown",
   "id": "159bde31-98cf-4a86-9404-f338db87addc",
   "metadata": {},
   "source": [
    "Pfam для РНК-полимеразы: PF00623"
   ]
  },
  {
   "cell_type": "markdown",
   "id": "7c82191c-3c82-4831-ba25-d82f7b6851c4",
   "metadata": {},
   "source": [
    "Выдача HMMER-Scan записаны в файлы: \n",
    "\n",
    "https://github.com/anuta28/bioinfa/blob/main/hw_6/hmmscan_1.txt\n",
    "\n",
    "https://github.com/anuta28/bioinfa/blob/main/hw_6/hmmscan_2.txt"
   ]
  },
  {
   "cell_type": "markdown",
   "id": "1665c000-b399-4bd6-a66a-2b0ed2bdac2d",
   "metadata": {},
   "source": [
    "Благодаря алгоритму HMMER, получилось найти в протеоме белки, содержащие интересующие мотивы. Для дальнейшего сравнения полученных белков, использовался алгоритм множественного выравнивания Omega Clustal. Результаты выравнивания находятся в файле:\n",
    "\n",
    "https://github.com/anuta28/bioinfa/blob/main/hw_6/clustalo_result.aln-clustal_num"
   ]
  },
  {
   "cell_type": "markdown",
   "id": "3a083e94-0c64-4089-a08f-cbf082bba400",
   "metadata": {},
   "source": [
    "Характерный домен PF00623 расположен в районе 850-950 аминокислот. "
   ]
  }
 ],
 "metadata": {
  "kernelspec": {
   "display_name": "Python 3 (ipykernel)",
   "language": "python",
   "name": "python3"
  },
  "language_info": {
   "codemirror_mode": {
    "name": "ipython",
    "version": 3
   },
   "file_extension": ".py",
   "mimetype": "text/x-python",
   "name": "python",
   "nbconvert_exporter": "python",
   "pygments_lexer": "ipython3",
   "version": "3.8.12"
  }
 },
 "nbformat": 4,
 "nbformat_minor": 5
}
