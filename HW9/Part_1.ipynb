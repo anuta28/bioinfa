{
 "cells": [
  {
   "cell_type": "markdown",
   "id": "390ee5d3",
   "metadata": {},
   "source": [
    "## Домашнее задание 9\n",
    "\n",
    "### Задание 1\n",
    "\n",
    "Сначала импортируем необходимые библиотеки и загружаем данные в удобном формате"
   ]
  },
  {
   "cell_type": "code",
   "execution_count": null,
   "id": "9d6b1e0d",
   "metadata": {},
   "outputs": [],
   "source": [
    "import numpy as np\n",
    "import matplotlib.pyplot as plt\n",
    "from scipy import stats\n",
    "\n",
    "data = np.array([79, 80, 80, 80, 74, 80, 80, 79, 64, 78, 73, 78, 74, 45, 81, 48, 80, 82, 82, 70])"
   ]
  },
  {
   "cell_type": "markdown",
   "id": "dd951de4",
   "metadata": {},
   "source": [
    "a. Находим значения квартилей: 25%, 50% (медиана) и 75%. Для этого в np есть функция percentile."
   ]
  },
  {
   "cell_type": "code",
   "execution_count": 8,
   "id": "48c85b68",
   "metadata": {},
   "outputs": [
    {
     "name": "stdout",
     "output_type": "stream",
     "text": [
      "  Q25: 73.75, Медиана (Q50): 79.0, Q75: 80.0\n",
      "\n"
     ]
    }
   ],
   "source": [
    "q25, q50, q75 = np.percentile(data, [25, 50, 75])\n",
    "\n",
    "print(f\"  Q25: {q25}, Медиана (Q50): {q50}, Q75: {q75}\\n\")"
   ]
  },
  {
   "cell_type": "markdown",
   "id": "80109f25",
   "metadata": {},
   "source": [
    "b. Находим межквартиллиный размах - разность значений между 1 и 3 квартилями (Q25 И Q75)."
   ]
  },
  {
   "cell_type": "code",
   "execution_count": 9,
   "id": "cd7c6920",
   "metadata": {},
   "outputs": [
    {
     "name": "stdout",
     "output_type": "stream",
     "text": [
      "  IQR: 6.25\n",
      "\n"
     ]
    }
   ],
   "source": [
    "iqr = q75 - q25\n",
    "\n",
    "print(f\"  IQR: {iqr}\\n\")"
   ]
  },
  {
   "cell_type": "markdown",
   "id": "f2e838c8",
   "metadata": {},
   "source": [
    "c. Дополнительно к уже имеющимся квартилям находим также максимум и миниимум и выводим получившиеся значения для сравнения. "
   ]
  },
  {
   "cell_type": "code",
   "execution_count": 10,
   "id": "ab6ce914",
   "metadata": {},
   "outputs": [
    {
     "name": "stdout",
     "output_type": "stream",
     "text": [
      "  Минимум: 45\n",
      "  Q25: 73.75\n",
      "  Медиана: 79.0\n",
      "  Q75: 80.0\n",
      "  Максимум: 82\n",
      "\n"
     ]
    }
   ],
   "source": [
    "minimum = np.min(data)\n",
    "maximum = np.max(data)\n",
    "\n",
    "print(f\"  Минимум: {minimum}\")\n",
    "print(f\"  Q25: {q25}\")\n",
    "print(f\"  Медиана: {q50}\")\n",
    "print(f\"  Q75: {q75}\")\n",
    "print(f\"  Максимум: {maximum}\\n\")"
   ]
  },
  {
   "cell_type": "markdown",
   "id": "6b412565",
   "metadata": {},
   "source": [
    "d. Видим, что минимальный элемент значительно меньше первого квартиля, так что можно предположить наличие выбросов в данных. Для оценки наличия выбросов, установим верхнюю и нижнюю границы по 1.5 межквартильных размаха от Q25 и Q75 и выделим элементы, которые выходят за этот интервал."
   ]
  },
  {
   "cell_type": "code",
   "execution_count": null,
   "id": "360bbd7c",
   "metadata": {},
   "outputs": [
    {
     "name": "stdout",
     "output_type": "stream",
     "text": [
      "Потенциальные выбросы:\n",
      "[64 45 48]\n"
     ]
    }
   ],
   "source": [
    "lower_bound = q25 - 1.5 * iqr\n",
    "upper_bound = q75 + 1.5 * iqr\n",
    "\n",
    "outliers = data[(data < lower_bound) | (data > upper_bound)]\n",
    "\n",
    "print(\"Потенциальные выбросы:\")\n",
    "if len(outliers) > 0:\n",
    "    print(f\"{outliers}\")\n",
    "else:\n",
    "    print(\"  Выбросы не обнаружены\")"
   ]
  },
  {
   "cell_type": "markdown",
   "id": "058bd4ef",
   "metadata": {},
   "source": [
    "e. Построим ящик с усами, на котором отображены полученные выше значения. Выбросы изобразим как отдельные точки, усы показывают интервал, в который входят значения, не являющиеся выбросами (определение в соответствии с правилом Тьюки). Медиана - оранжевая линия в ящике, границы ящика - Q25 и Q75."
   ]
  },
  {
   "cell_type": "code",
   "execution_count": 12,
   "id": "9124ca32",
   "metadata": {},
   "outputs": [
    {
     "data": {
      "image/png": "[encoded data removed]",
      "text/plain": [
       "<Figure size 800x600 with 1 Axes>"
      ]
     },
     "metadata": {},
     "output_type": "display_data"
    }
   ],
   "source": [
    "plt.figure(figsize=(8, 6))\n",
    "plt.boxplot(data, vert=True, patch_artist=True)\n",
    "plt.title(\"Ящик с усами для данных\")\n",
    "plt.ylabel(\"Значения\")\n",
    "plt.grid(True, linestyle='--', alpha=0.7)\n",
    "\n",
    "plt.show()"
   ]
  },
  {
   "cell_type": "code",
   "execution_count": null,
   "id": "f3e46c5a",
   "metadata": {},
   "outputs": [],
   "source": []
  }
 ],
 "metadata": {
  "kernelspec": {
   "display_name": "Python 3",
   "language": "python",
   "name": "python3"
  },
  "language_info": {
   "codemirror_mode": {
    "name": "ipython",
    "version": 3
   },
   "file_extension": ".py",
   "mimetype": "text/x-python",
   "name": "python",
   "nbconvert_exporter": "python",
   "pygments_lexer": "ipython3",
   "version": "3.7.5"
  }
 },
 "nbformat": 4,
 "nbformat_minor": 5
}
